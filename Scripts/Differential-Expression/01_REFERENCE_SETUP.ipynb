{
  "nbformat": 4,
  "nbformat_minor": 0,
  "metadata": {
    "colab": {
      "provenance": [],
      "toc_visible": true
    },
    "kernelspec": {
      "name": "python3",
      "display_name": "Python 3"
    },
    "language_info": {
      "name": "python"
    }
  },
  "cells": [
    {
      "cell_type": "markdown",
      "source": [
        "# Preparing gene annotations for DEG analysis\n",
        "\n",
        "Author: Tamar Feldman\n",
        "\n",
        "Project: Feldman et al. *Blood Adv*. 2023\n",
        "\n",
        "Purpose: Retrieve gene symbols and annotations for DEG analysis. Calculate the total aligned reads and % of total reads aligned to the human or parasite genome in each sample."
      ],
      "metadata": {
        "id": "e50V8LE5Xsyl"
      }
    },
    {
      "cell_type": "code",
      "source": [
        "# Install access to Ensembl biomart\n",
        "!pip install pybiomart"
      ],
      "metadata": {
        "id": "NWrcQpVCxQaM"
      },
      "execution_count": null,
      "outputs": []
    },
    {
      "cell_type": "markdown",
      "source": [
        "## IMPORT STATEMENTS"
      ],
      "metadata": {
        "id": "UjOc1hqMVZWO"
      }
    },
    {
      "cell_type": "code",
      "execution_count": null,
      "metadata": {
        "id": "VOJZF0-jVO7L"
      },
      "outputs": [],
      "source": [
        "import pandas as pd\n",
        "import pybiomart as mart"
      ]
    },
    {
      "cell_type": "markdown",
      "source": [
        "## DATA PREPARATION\n",
        "Attachment of gene annotations to count data and formatting in preparation for DESeq2.\n"
      ],
      "metadata": {
        "id": "MGopSqmQKduz"
      }
    },
    {
      "cell_type": "markdown",
      "source": [
        "### HUMAN GENE ANNOTATION\n",
        "Retrieve from Ensembl and remove duplicated IDs to create gene information table to merge with counts table"
      ],
      "metadata": {
        "id": "YyjHMnUrVhOk"
      }
    },
    {
      "cell_type": "code",
      "source": [
        "# RETRIEVE INFO FROM ENSEMBL AND REMOVE UNWANTED GENE TYPES\n",
        "dataset = mart.Dataset(name='hsapiens_gene_ensembl',\n",
        "                  host='http://dec2021.archive.ensembl.org') # ARCHIVAL ENSEMBL TO MATCH ALIGNMENT\n",
        "# dataset.list_attributes()\n",
        "filtered = dataset.query(attributes=[\"ensembl_gene_id\",\"hgnc_symbol\",\n",
        "                                     \"gene_biotype\",\"chromosome_name\",\n",
        "                                     \"description\"],\n",
        "                         filters={\"biotype\":[\"protein_coding\",\"lincRNA\"]})\n",
        "#filtered.head()\n",
        "\n",
        "# REMOVE DUPLICATED GENE IDS\n",
        "print(\"Number of genes in human dataset before duplicate removal: \" +\n",
        "      str(filtered.shape[0]))\n",
        "print(\"Duplicated gene IDs to be removed except for the first instance:\")\n",
        "display(filtered[filtered[\"Gene stable ID\"].duplicated()])\n",
        "filtered.drop_duplicates(subset = \"Gene stable ID\",\n",
        "                         inplace = True) # DROP DUPLICATES IN PLACE\n",
        "print(\"Number of genes in human dataset after duplicate removal: \" +\n",
        "      str(filtered.shape[0]))"
      ],
      "metadata": {
        "id": "_iFM-SK7d--V"
      },
      "execution_count": null,
      "outputs": []
    },
    {
      "cell_type": "markdown",
      "source": [
        "### PLASMODIUM GENE ANNOTATION\n",
        "Retrieve Plasmodium gene information and remove duplicated IDs. Merge information from alignments with gene symbols from PlasmoDB"
      ],
      "metadata": {
        "id": "hqG0817q77U9"
      }
    },
    {
      "cell_type": "code",
      "source": [
        "# READ IN PF GENE ANNOTATIONS USED IN ALIGNMENT\n",
        "pf_genes = pd.read_csv(\"/content/drive/MyDrive/2023/Pf_ASM276v2_Genes.txt\",\n",
        "                       header = 0,\n",
        "                       sep = \"\\t\")\n",
        "print(\"Number of annotated genes: \" + str(pf_genes.shape[0]))\n",
        "\n",
        "# READ IN PF GENE SYMBOLS FROM PLASMODB\n",
        "pf_symbols = pd.read_csv(\"/content/drive/MyDrive/2023/PfGeneNames_plasmodb.csv\",\n",
        "                         header = 0)\n",
        "print(\"Number of genes with symbols: \" + str(pf_symbols.shape[0]))\n",
        "#print(pf_genes.columns)\n",
        "#print(pf_symbols.columns)"
      ],
      "metadata": {
        "id": "MihQLQbV7f-v"
      },
      "execution_count": null,
      "outputs": []
    },
    {
      "cell_type": "markdown",
      "source": [
        "#### REMOVE DUPLICATED GENE IDS"
      ],
      "metadata": {
        "id": "c3A9KjI4OAvu"
      }
    },
    {
      "cell_type": "code",
      "source": [
        "# REMOVE DUPLICATED GENE IDS FROM ANNOTATIONS USED IN ALIGNMENT\n",
        "print(\"Number of genes in pf dataset 1 before duplicate removal: \" +\n",
        "      str(pf_genes.shape[0]))\n",
        "print(\"Duplicated gene IDs to be removed except for the first instance:\")\n",
        "display(pf_genes[pf_genes[\"Gene stable ID\"].duplicated()])\n",
        "pf_genes.drop_duplicates(subset = \"Gene stable ID\",\n",
        "                         inplace = True) # DROP DUPLICATES IN PLACE\n",
        "print(\"Number of genes in pf dataset 1 after duplicate removal: \" +\n",
        "      str(pf_genes.shape))\n",
        "\n",
        "# REMOVE DUPLICATED GENE IDS FROM PLASMODB GENE SYMBOLS\n",
        "print(\"Number of genes in pf dataset 2 before duplicate removal: \" +\n",
        "      str(pf_symbols.shape[0]))\n",
        "print(\"Duplicated gene IDs to be removed except for the first instance:\")\n",
        "display(pf_symbols[pf_symbols[\"Gene ID\"].duplicated()])\n",
        "pf_symbols.drop_duplicates(subset = \"Gene ID\",\n",
        "                         inplace = True) # DROP DUPLICATES IN PLACE\n",
        "print(\"Number of genes in pf dataset 2 after duplicate removal: \" +\n",
        "      str(pf_symbols.shape))"
      ],
      "metadata": {
        "id": "5c0LlcC4_fg1"
      },
      "execution_count": null,
      "outputs": []
    },
    {
      "cell_type": "markdown",
      "source": [
        "#### MERGE PLASMODIUM ANNOTATIONS AND GENE SYMBOLS\n",
        "Create final gene information table to be merged with counts table"
      ],
      "metadata": {
        "id": "6hP_s6InOIYc"
      }
    },
    {
      "cell_type": "code",
      "source": [
        "# MERGE ANNOTATIONS AND GENE SYMBOLS\n",
        "pf_merge = pf_genes.merge(right = pf_symbols,\n",
        "                          left_on = \"Gene stable ID\",\n",
        "                          right_on = \"Gene ID\",\n",
        "                          how = \"left\")\n",
        "print(pf_merge.shape[0])\n",
        "\n",
        "# DROP EXTRA COLUMNS\n",
        "pf_merge = pf_merge[[\"Gene stable ID\",\"Gene description\",\n",
        "                     \"Gene Name or Symbol\",\"Chromosome/scaffold name\",\n",
        "                     \"Gene type\"]]"
      ],
      "metadata": {
        "id": "Ob8jvh8Q9yxE"
      },
      "execution_count": null,
      "outputs": []
    },
    {
      "cell_type": "markdown",
      "source": [
        "## PREPARE FINAL TABLES TO USE WITH DESEQ2\n",
        "Filter the counts table to include only protein-coding, lncRNA and filter the gene info tables to include only genes in the final counts table."
      ],
      "metadata": {
        "id": "2sHMOP7UBAFk"
      }
    },
    {
      "cell_type": "code",
      "source": [
        "# READ COUNTS TABLE\n",
        "my_counts = pd.read_csv(\"/content/drive/MyDrive/2023/220103_HsPf_2020.txt\",\n",
        "                        header = 0,\n",
        "                        sep = \"\\t\")\n",
        "my_genes = my_counts[\"Gene.ID\"]\n",
        "\n",
        "# SEPARATE HUMAN AND PF GENE COUNT TABLES\n",
        "human = my_genes[my_genes.str.startswith(\"ENSG\")] # ALL HUMAN\n",
        "pf = my_genes[my_genes.str.startswith(\"PF3D7_\")] #ALL PF\n",
        "my_human = my_counts[my_counts[\"Gene.ID\"].isin(human)] # FILTER BY HUMAN\n",
        "my_pf = my_counts[my_counts[\"Gene.ID\"].isin(pf)] # FILTER BY PF\n",
        "print(my_human.shape[0])\n",
        "print(my_pf.shape[0])\n",
        "\n",
        "# FILTER COUNT TABLES BY GENES LISTED IN THE INFO TABLES\n",
        "# TO REMOVE GENES THAT ARE NOT PROTEIN-CODING OR LNCRNA\n",
        "final_human = my_human[\n",
        "    my_human[\"Gene.ID\"].isin(filtered[\"Gene stable ID\"])\n",
        "    ]\n",
        "final_pf = my_pf[\n",
        "    my_pf[\"Gene.ID\"].isin(pf_merge[\"Gene stable ID\"])\n",
        "    ]\n",
        "print(final_human.shape[0])\n",
        "print(final_pf.shape[0])\n",
        "\n",
        "# WRITE INTERMEDIATE GENE COUNT TABLES TO FILE\n",
        "#final_human.to_csv(\"/content/drive/MyDrive/2023/HumanGeneCountTable_v1.csv\",\n",
        "#                   index = False,\n",
        "#                   header = True)\n",
        "#final_pf.to_csv(\"/content/drive/MyDrive/2023/PfGeneCountTable_v1.csv\",\n",
        "#                index = False,\n",
        "#                header = True)"
      ],
      "metadata": {
        "id": "pvC61L3yAyA4"
      },
      "execution_count": null,
      "outputs": []
    },
    {
      "cell_type": "markdown",
      "source": [
        "### CREATE FINAL GENE INFO TABLES\n",
        "These tables only contain genes that are included in the final counts tables (ie protein-coding, lncRNA)"
      ],
      "metadata": {
        "id": "V485rmFYMWNa"
      }
    },
    {
      "cell_type": "code",
      "source": [
        "# FILTER GENE INFO TO MATCH GENE COUNT TABLES\n",
        "pf_edit = pf_merge[pf_merge[\"Gene stable ID\"].isin(final_pf[\"Gene.ID\"])]\n",
        "human_edit = filtered[filtered[\"Gene stable ID\"].isin(final_human[\"Gene.ID\"])]\n",
        "\n",
        "# WRITE EDITED GENE INFO TO FILE\n",
        "human_edit.to_csv(\"/content/drive/MyDrive/2023/HumanGeneInfoTable_v1.csv\",\n",
        "                  index = False,\n",
        "                  header = True)\n",
        "pf_edit.to_csv(\"/content/drive/MyDrive/2023/PfGeneInfoTable_v1.csv\",\n",
        "               index = False,\n",
        "               header = True)"
      ],
      "metadata": {
        "id": "OJa0KrgAMw-F"
      },
      "execution_count": null,
      "outputs": []
    },
    {
      "cell_type": "markdown",
      "source": [
        "### CREATE FINAL COUNTS TABLES"
      ],
      "metadata": {
        "id": "zMRN7S06NwAa"
      }
    },
    {
      "cell_type": "code",
      "source": [
        "# REMOVE REPLICATES THAT FAILED QC\n",
        "bad_reps = [\"ProE_Infected_12\",\n",
        "            \"BasE_Uninfected_12\",\n",
        "            \"BasE_Infected_21\",\n",
        "            \"PolyE_Infected_32\",\n",
        "            \"OrthoE_Media_31\",\n",
        "            \"OrthoE_Infected_31\",\n",
        "            \"OrthoE_Infected_32\",\n",
        "            \"PolyE_Media_32\",\n",
        "            \"RSC\",\n",
        "            \"LTC\"]\n",
        "final_human.drop(bad_reps,axis=1,inplace = True) # REMOVING IN PLACE\n",
        "final_pf.drop(bad_reps,axis = 1, inplace = True) # REMOVING IN PLACE\n",
        "\n",
        "# REORDER COLUMNS BY CELL TYPE AND CONDITION\n",
        "my_cols = final_human.columns.tolist()\n",
        "new_order = [\"Gene.ID\"]\n",
        "for cell in [\"ProE\",\"BasE\",\"PolyE\",\"OrthoE\"]:\n",
        "  for con in [\"Media\",\"Mock\",\"Uninfected\",\"Infected\"]:\n",
        "    for rep in [\"11\",\"12\",\"21\",\"22\",\"31\",\"32\"]:\n",
        "      my_name = cell + \"_\" + con + \"_\" + rep\n",
        "      if my_name in my_cols:\n",
        "        new_order.append(my_name)\n",
        "print(my_cols)\n",
        "print(new_order)\n",
        "print(len(my_cols))\n",
        "print(len(new_order))\n",
        "\n",
        "# REORDER COUNTS TABLES\n",
        "final_human_reo = final_human.loc[:,new_order]\n",
        "final_pf_reo = final_pf.loc[:,new_order]\n",
        "\n",
        "# RENAME COLUMNS TO FIX CONDITION NAMES AND CELL TYPE NAMES TO BE CONSISTENT\n",
        "new_names = {}\n",
        "for col in new_order:\n",
        "  col_new = col.replace(\"_\",\".\")\n",
        "  if \"BasE\" or \"Mock\" in col:\n",
        "    col_new = col_new.replace(\"BasE\",\"BasoE\")\n",
        "    col_new = col_new.replace(\"Mock\", \"SRS\")\n",
        "  new_names[col] = col_new\n",
        "print(new_names)\n",
        "renamed_human = final_human_reo.rename(new_names, axis=1)\n",
        "renamed_pf = final_pf_reo.rename(new_names, axis = 1)\n",
        "\n",
        "# WRITE TO FILE THE FINAL COUNTS TABLES FOR ANALYSIS\n",
        "renamed_human.to_csv(\"/content/drive/MyDrive/2023/HumanGeneCountsTable_v2.csv\",\n",
        "               index = False,\n",
        "               header = True)\n",
        "renamed_pf.to_csv(\"/content/drive/MyDrive/2023/PfGeneCountsTable_v2.csv\",\n",
        "               index = False,\n",
        "               header = True)"
      ],
      "metadata": {
        "colab": {
          "base_uri": "https://localhost:8080/"
        },
        "id": "OQUP1eoMNvXz",
        "outputId": "813bf66c-106a-44b4-8c9b-4d85ed892009"
      },
      "execution_count": null,
      "outputs": [
        {
          "output_type": "stream",
          "name": "stderr",
          "text": [
            "<ipython-input-17-34ba5ddf26cb>:11: SettingWithCopyWarning: \n",
            "A value is trying to be set on a copy of a slice from a DataFrame\n",
            "\n",
            "See the caveats in the documentation: https://pandas.pydata.org/pandas-docs/stable/user_guide/indexing.html#returning-a-view-versus-a-copy\n",
            "  final_human.drop(bad_reps,axis=1,inplace = True)\n",
            "<ipython-input-17-34ba5ddf26cb>:12: SettingWithCopyWarning: \n",
            "A value is trying to be set on a copy of a slice from a DataFrame\n",
            "\n",
            "See the caveats in the documentation: https://pandas.pydata.org/pandas-docs/stable/user_guide/indexing.html#returning-a-view-versus-a-copy\n",
            "  final_pf.drop(bad_reps,axis = 1, inplace = True)\n"
          ]
        }
      ]
    },
    {
      "cell_type": "markdown",
      "source": [
        "## FIND THE ALIGNED READ TOTALS AND PERCENTAGES FOR HU AND PF\n",
        "This requires going back to the original counts table and applying the same removal of failed replicates and renaming as above so that the totals can be calculated from the unfiltered table."
      ],
      "metadata": {
        "id": "8CBImUSHNohh"
      }
    },
    {
      "cell_type": "markdown",
      "source": [
        "### UPDATE THE ORIGINAL COUNTS TABLE\n",
        "Remove failed replicates, reorder, and rename as above"
      ],
      "metadata": {
        "id": "DkINqFB7UrXW"
      }
    },
    {
      "cell_type": "code",
      "source": [
        "## REMOVE UNWANTED COLUMNS\n",
        "# Changes are made in place\n",
        "bad_reps = [\"ProE_Infected_12\",\n",
        "            \"BasE_Uninfected_12\",\n",
        "            \"BasE_Infected_21\",\n",
        "            \"PolyE_Infected_32\",\n",
        "            \"OrthoE_Media_31\",\n",
        "            \"OrthoE_Infected_31\",\n",
        "            \"OrthoE_Infected_32\",\n",
        "            \"PolyE_Media_32\",\n",
        "            \"RSC\",\n",
        "            \"LTC\"]\n",
        "my_counts.drop(bad_reps,axis=1,inplace = True)\n",
        "\n",
        "## REORDER COLUMNS BY CELL TYPE AND CONDITION\n",
        "my_cols = my_counts.columns.tolist()\n",
        "new_order = [\"Gene.ID\"]\n",
        "for cell in [\"ProE\",\"BasE\",\"PolyE\",\"OrthoE\"]:\n",
        "  for con in [\"Media\",\"Mock\",\"Uninfected\",\"Infected\"]:\n",
        "    for rep in [\"11\",\"12\",\"21\",\"22\",\"31\",\"32\"]:\n",
        "      my_name = cell + \"_\" + con + \"_\" + rep\n",
        "      if my_name in my_cols:\n",
        "        new_order.append(my_name)\n",
        "\n",
        "my_counts = my_counts.loc[:,new_order]\n",
        "\n",
        "## RENAME COLUMNS TO BE CONSISTENT WITH PAPER\n",
        "new_names = {}\n",
        "for col in new_order:\n",
        "  col_new = col.replace(\"_\",\".\")\n",
        "  if \"BasE\" or \"Mock\" in col:\n",
        "    col_new = col_new.replace(\"BasE\",\"BasoE\")\n",
        "    col_new = col_new.replace(\"Mock\", \"SRS\")\n",
        "  new_names[col] = col_new\n",
        "print(new_names)\n",
        "my_counts = my_counts.rename(new_names, axis=1)\n",
        "\n",
        "## SEPARATE INTO TABLES FOR HUMAN AND PF\n",
        "my_human = my_counts[my_counts[\"Gene.ID\"].isin(human)] # FILTER BY HUMAN\n",
        "my_pf = my_counts[my_counts[\"Gene.ID\"].isin(pf)] # FILTER BY PF"
      ],
      "metadata": {
        "id": "ojhXIcheN7eB"
      },
      "execution_count": null,
      "outputs": []
    },
    {
      "cell_type": "markdown",
      "source": [
        "### FIND ALIGNED READ TOTALS\n",
        "Sum the total aligned reads from human and Pf and find the percentage of total aligned reads for each species."
      ],
      "metadata": {
        "id": "-7RaMHr9O8_z"
      }
    },
    {
      "cell_type": "code",
      "source": [
        "my_total = my_counts.sum(numeric_only=True)\n",
        "my_human_total = my_human.sum(numeric_only=True)\n",
        "my_pf_total = my_pf.sum(numeric_only=True)\n",
        "#print(my_total.shape)\n",
        "#print(my_human_total.shape)\n",
        "#print(my_pf_total.shape)\n",
        "\n",
        "## MAKE FINAL TABLE WITH TOTALS AND PERCENTAGES\n",
        "my_totals = pd.concat([my_total,my_human_total,my_pf_total], axis = 1)\n",
        "my_totals.columns = [\"Total gene counts\",\"H. sapiens gene counts\", \"P. falciparum gene counts\"]\n",
        "my_totals[\"H. sapiens gene counts (% of total)\"] = my_totals[\"H. sapiens gene counts\"]/my_totals[\"Total gene counts\"] * 100\n",
        "my_totals[\"P. falciparum gene counts (% of total)\"] = my_totals[\"P. falciparum gene counts\"]/my_totals[\"Total gene counts\"] * 100\n",
        "\n",
        "## SAVE TO FILE\n",
        "my_totals.to_csv(\"/content/drive/MyDrive/2023/GeneCountsTotals.csv\",\n",
        "               index = True,\n",
        "               header = True)"
      ],
      "metadata": {
        "id": "F2uD8SNIOzyx"
      },
      "execution_count": null,
      "outputs": []
    }
  ]
}
