{
  "nbformat": 4,
  "nbformat_minor": 0,
  "metadata": {
    "colab": {
      "provenance": []
    },
    "kernelspec": {
      "name": "python3",
      "display_name": "Python 3"
    },
    "language_info": {
      "name": "python"
    }
  },
  "cells": [
    {
      "cell_type": "code",
      "source": [
        "!pip install 'folium==0.9.1'\n",
        "!pip install \"gseapy==0.10.7\""
      ],
      "metadata": {
        "colab": {
          "base_uri": "https://localhost:8080/"
        },
        "id": "iExDnsj9RjIx",
        "outputId": "58a524eb-3d9b-4d99-fbc6-9673e32c68be"
      },
      "execution_count": null,
      "outputs": [
        {
          "output_type": "stream",
          "name": "stdout",
          "text": [
            "Looking in indexes: https://pypi.org/simple, https://us-python.pkg.dev/colab-wheels/public/simple/\n",
            "Collecting folium==0.9.1\n",
            "  Downloading folium-0.9.1-py2.py3-none-any.whl (91 kB)\n",
            "\u001b[2K     \u001b[90m━━━━━━━━━━━━━━━━━━━━━━━━━━━━━━━━━━━━━━━━\u001b[0m \u001b[32m91.2/91.2 kB\u001b[0m \u001b[31m4.7 MB/s\u001b[0m eta \u001b[36m0:00:00\u001b[0m\n",
            "\u001b[?25hRequirement already satisfied: numpy in /usr/local/lib/python3.10/dist-packages (from folium==0.9.1) (1.22.4)\n",
            "Requirement already satisfied: requests in /usr/local/lib/python3.10/dist-packages (from folium==0.9.1) (2.27.1)\n",
            "Requirement already satisfied: branca>=0.3.0 in /usr/local/lib/python3.10/dist-packages (from folium==0.9.1) (0.6.0)\n",
            "Requirement already satisfied: jinja2>=2.9 in /usr/local/lib/python3.10/dist-packages (from folium==0.9.1) (3.1.2)\n",
            "Requirement already satisfied: MarkupSafe>=2.0 in /usr/local/lib/python3.10/dist-packages (from jinja2>=2.9->folium==0.9.1) (2.1.2)\n",
            "Requirement already satisfied: certifi>=2017.4.17 in /usr/local/lib/python3.10/dist-packages (from requests->folium==0.9.1) (2022.12.7)\n",
            "Requirement already satisfied: idna<4,>=2.5 in /usr/local/lib/python3.10/dist-packages (from requests->folium==0.9.1) (3.4)\n",
            "Requirement already satisfied: charset-normalizer~=2.0.0 in /usr/local/lib/python3.10/dist-packages (from requests->folium==0.9.1) (2.0.12)\n",
            "Requirement already satisfied: urllib3<1.27,>=1.21.1 in /usr/local/lib/python3.10/dist-packages (from requests->folium==0.9.1) (1.26.15)\n",
            "Installing collected packages: folium\n",
            "  Attempting uninstall: folium\n",
            "    Found existing installation: folium 0.2.1\n",
            "    Uninstalling folium-0.2.1:\n",
            "      Successfully uninstalled folium-0.2.1\n",
            "Successfully installed folium-0.9.1\n",
            "Looking in indexes: https://pypi.org/simple, https://us-python.pkg.dev/colab-wheels/public/simple/\n",
            "Requirement already satisfied: gseapy==0.10.7 in /usr/local/lib/python3.10/dist-packages (0.10.7)\n",
            "Requirement already satisfied: pandas in /usr/local/lib/python3.10/dist-packages (from gseapy==0.10.7) (1.5.3)\n",
            "Requirement already satisfied: bioservices in /usr/local/lib/python3.10/dist-packages (from gseapy==0.10.7) (1.11.2)\n",
            "Requirement already satisfied: scipy in /usr/local/lib/python3.10/dist-packages (from gseapy==0.10.7) (1.10.1)\n",
            "Requirement already satisfied: numpy>=1.13.0 in /usr/local/lib/python3.10/dist-packages (from gseapy==0.10.7) (1.22.4)\n",
            "Requirement already satisfied: joblib in /usr/local/lib/python3.10/dist-packages (from gseapy==0.10.7) (1.2.0)\n",
            "Requirement already satisfied: requests in /usr/local/lib/python3.10/dist-packages (from gseapy==0.10.7) (2.27.1)\n",
            "Requirement already satisfied: matplotlib in /usr/local/lib/python3.10/dist-packages (from gseapy==0.10.7) (3.7.1)\n",
            "Requirement already satisfied: colorlog in /usr/local/lib/python3.10/dist-packages (from bioservices->gseapy==0.10.7) (6.7.0)\n",
            "Requirement already satisfied: xmltodict in /usr/local/lib/python3.10/dist-packages (from bioservices->gseapy==0.10.7) (0.13.0)\n",
            "Requirement already satisfied: beautifulsoup4 in /usr/local/lib/python3.10/dist-packages (from bioservices->gseapy==0.10.7) (4.11.2)\n",
            "Requirement already satisfied: requests-cache in /usr/local/lib/python3.10/dist-packages (from bioservices->gseapy==0.10.7) (1.0.1)\n",
            "Requirement already satisfied: lxml in /usr/local/lib/python3.10/dist-packages (from bioservices->gseapy==0.10.7) (4.9.2)\n",
            "Requirement already satisfied: wrapt in /usr/local/lib/python3.10/dist-packages (from bioservices->gseapy==0.10.7) (1.14.1)\n",
            "Requirement already satisfied: grequests in /usr/local/lib/python3.10/dist-packages (from bioservices->gseapy==0.10.7) (0.6.0)\n",
            "Requirement already satisfied: easydev>=0.12.0 in /usr/local/lib/python3.10/dist-packages (from bioservices->gseapy==0.10.7) (0.12.1)\n",
            "Requirement already satisfied: appdirs in /usr/local/lib/python3.10/dist-packages (from bioservices->gseapy==0.10.7) (1.4.4)\n",
            "Requirement already satisfied: suds-community>=0.7 in /usr/local/lib/python3.10/dist-packages (from bioservices->gseapy==0.10.7) (1.1.2)\n",
            "Requirement already satisfied: tqdm in /usr/local/lib/python3.10/dist-packages (from bioservices->gseapy==0.10.7) (4.65.0)\n",
            "Requirement already satisfied: pytz>=2020.1 in /usr/local/lib/python3.10/dist-packages (from pandas->gseapy==0.10.7) (2022.7.1)\n",
            "Requirement already satisfied: python-dateutil>=2.8.1 in /usr/local/lib/python3.10/dist-packages (from pandas->gseapy==0.10.7) (2.8.2)\n",
            "Requirement already satisfied: packaging>=20.0 in /usr/local/lib/python3.10/dist-packages (from matplotlib->gseapy==0.10.7) (23.1)\n",
            "Requirement already satisfied: contourpy>=1.0.1 in /usr/local/lib/python3.10/dist-packages (from matplotlib->gseapy==0.10.7) (1.0.7)\n",
            "Requirement already satisfied: pillow>=6.2.0 in /usr/local/lib/python3.10/dist-packages (from matplotlib->gseapy==0.10.7) (8.4.0)\n",
            "Requirement already satisfied: fonttools>=4.22.0 in /usr/local/lib/python3.10/dist-packages (from matplotlib->gseapy==0.10.7) (4.39.3)\n",
            "Requirement already satisfied: kiwisolver>=1.0.1 in /usr/local/lib/python3.10/dist-packages (from matplotlib->gseapy==0.10.7) (1.4.4)\n",
            "Requirement already satisfied: cycler>=0.10 in /usr/local/lib/python3.10/dist-packages (from matplotlib->gseapy==0.10.7) (0.11.0)\n",
            "Requirement already satisfied: pyparsing>=2.3.1 in /usr/local/lib/python3.10/dist-packages (from matplotlib->gseapy==0.10.7) (3.0.9)\n",
            "Requirement already satisfied: idna<4,>=2.5 in /usr/local/lib/python3.10/dist-packages (from requests->gseapy==0.10.7) (3.4)\n",
            "Requirement already satisfied: charset-normalizer~=2.0.0 in /usr/local/lib/python3.10/dist-packages (from requests->gseapy==0.10.7) (2.0.12)\n",
            "Requirement already satisfied: certifi>=2017.4.17 in /usr/local/lib/python3.10/dist-packages (from requests->gseapy==0.10.7) (2022.12.7)\n",
            "Requirement already satisfied: urllib3<1.27,>=1.21.1 in /usr/local/lib/python3.10/dist-packages (from requests->gseapy==0.10.7) (1.26.15)\n",
            "Requirement already satisfied: colorama in /usr/local/lib/python3.10/dist-packages (from easydev>=0.12.0->bioservices->gseapy==0.10.7) (0.4.6)\n",
            "Requirement already satisfied: pexpect in /usr/local/lib/python3.10/dist-packages (from easydev>=0.12.0->bioservices->gseapy==0.10.7) (4.8.0)\n",
            "Requirement already satisfied: six>=1.5 in /usr/local/lib/python3.10/dist-packages (from python-dateutil>=2.8.1->pandas->gseapy==0.10.7) (1.16.0)\n",
            "Requirement already satisfied: soupsieve>1.2 in /usr/local/lib/python3.10/dist-packages (from beautifulsoup4->bioservices->gseapy==0.10.7) (2.4.1)\n",
            "Requirement already satisfied: gevent in /usr/local/lib/python3.10/dist-packages (from grequests->bioservices->gseapy==0.10.7) (22.10.2)\n",
            "Requirement already satisfied: url-normalize>=1.4 in /usr/local/lib/python3.10/dist-packages (from requests-cache->bioservices->gseapy==0.10.7) (1.4.3)\n",
            "Requirement already satisfied: platformdirs>=2.5 in /usr/local/lib/python3.10/dist-packages (from requests-cache->bioservices->gseapy==0.10.7) (3.3.0)\n",
            "Requirement already satisfied: cattrs>=22.2 in /usr/local/lib/python3.10/dist-packages (from requests-cache->bioservices->gseapy==0.10.7) (22.2.0)\n",
            "Requirement already satisfied: attrs>=21.2 in /usr/local/lib/python3.10/dist-packages (from requests-cache->bioservices->gseapy==0.10.7) (23.1.0)\n",
            "Requirement already satisfied: exceptiongroup in /usr/local/lib/python3.10/dist-packages (from cattrs>=22.2->requests-cache->bioservices->gseapy==0.10.7) (1.1.1)\n",
            "Requirement already satisfied: greenlet>=2.0.0 in /usr/local/lib/python3.10/dist-packages (from gevent->grequests->bioservices->gseapy==0.10.7) (2.0.2)\n",
            "Requirement already satisfied: zope.event in /usr/local/lib/python3.10/dist-packages (from gevent->grequests->bioservices->gseapy==0.10.7) (4.6)\n",
            "Requirement already satisfied: zope.interface in /usr/local/lib/python3.10/dist-packages (from gevent->grequests->bioservices->gseapy==0.10.7) (6.0)\n",
            "Requirement already satisfied: setuptools in /usr/local/lib/python3.10/dist-packages (from gevent->grequests->bioservices->gseapy==0.10.7) (67.7.2)\n",
            "Requirement already satisfied: ptyprocess>=0.5 in /usr/local/lib/python3.10/dist-packages (from pexpect->easydev>=0.12.0->bioservices->gseapy==0.10.7) (0.7.0)\n"
          ]
        }
      ]
    },
    {
      "cell_type": "markdown",
      "source": [
        "## IMPORT STATEMENTS"
      ],
      "metadata": {
        "id": "ZmMkEEKoReYH"
      }
    },
    {
      "cell_type": "code",
      "source": [
        "import pandas as pd\n",
        "import gseapy as gp\n",
        "import numpy as np"
      ],
      "metadata": {
        "colab": {
          "base_uri": "https://localhost:8080/"
        },
        "id": "X4cyEjpZRm_e",
        "outputId": "91ce8980-1b88-452b-eaf4-fee6abddee63"
      },
      "execution_count": null,
      "outputs": [
        {
          "output_type": "stream",
          "name": "stdout",
          "text": [
            "Creating directory /root/.config/bioservices \n"
          ]
        }
      ]
    },
    {
      "cell_type": "markdown",
      "source": [
        "## LOAD FILE WITH GENE LISTS"
      ],
      "metadata": {
        "id": "6ldS1YnaS3RL"
      }
    },
    {
      "cell_type": "code",
      "execution_count": null,
      "metadata": {
        "id": "GVwFT7bgM4Xy"
      },
      "outputs": [],
      "source": [
        "## MAKES DICT WITH ALL SHEETS (NAME : DF)\n",
        "path_to_list = \"/content/drive/MyDrive/2023/ENRICHR-GENE-LISTS.xlsx\"\n",
        "my_gene_lists = pd.read_excel(path_to_list, sheet_name=None,header=None)\n",
        "#path_to_background = \"/content/drive/MyDrive/2023/ALL_GENES.xlsx\"\n",
        "#my_background = pd.read_excel(path_to_background, header=None)\n",
        "## ADDING BACKGROUND DIDN'T SEEM TO MAKE A DIFFERENCE\n"
      ]
    },
    {
      "cell_type": "markdown",
      "source": [
        "## Run EnrichR and save results"
      ],
      "metadata": {
        "id": "8Uk_-nbgS4Br"
      }
    },
    {
      "cell_type": "code",
      "source": [
        "writer_path = \"/content/drive/MyDrive/2023/ENRICHR/ENRICHR-RESULTS-PVAL-AND-OD-FILTERED.xlsx\"\n",
        "with pd.ExcelWriter(writer_path) as writer:\n",
        "  for key,value in my_gene_lists.items():\n",
        "    enr = gp.enrichr(gene_list=value.dropna(), ## drop no hgnc symbol blanks\n",
        "                    gene_sets=\"MSigDB_Hallmark_2020\",\n",
        "                    outdir = \"/content/drive/MyDrive/2023/ENRICHR/\" + key + \"-unfiltered\",\n",
        "                    cutoff=0.25)\n",
        "    enr.results[\"Odds Ratio\"] = enr.results[\"Odds Ratio\"].round(1) ## ROUND ODDS RATIO\n",
        "    my_filter = enr.results.loc[(enr.results[\"Adjusted P-value\"] < 0.1) & (enr.results[\"Odds Ratio\"].round(1) >= 3)]\n",
        "    my_filter.to_excel(writer,sheet_name = key,index=False,columns = [\"Term\",\"Overlap\",\"P-value\",\"Adjusted P-value\",\"Odds Ratio\",\"Genes\"])"
      ],
      "metadata": {
        "colab": {
          "base_uri": "https://localhost:8080/"
        },
        "id": "dSs4pgbFS4Zn",
        "outputId": "4f174ec6-f777-45f1-ffe6-f17e9439ceb7"
      },
      "execution_count": null,
      "outputs": [
        {
          "output_type": "stream",
          "name": "stderr",
          "text": [
            "/usr/local/lib/python3.10/dist-packages/gseapy/enrichr.py:427: FutureWarning: The frame.append method is deprecated and will be removed from pandas in a future version. Use pandas.concat instead.\n",
            "  self.results = self.results.append(res, ignore_index=True)\n",
            "/usr/local/lib/python3.10/dist-packages/gseapy/enrichr.py:427: FutureWarning: The frame.append method is deprecated and will be removed from pandas in a future version. Use pandas.concat instead.\n",
            "  self.results = self.results.append(res, ignore_index=True)\n",
            "/usr/local/lib/python3.10/dist-packages/gseapy/enrichr.py:427: FutureWarning: The frame.append method is deprecated and will be removed from pandas in a future version. Use pandas.concat instead.\n",
            "  self.results = self.results.append(res, ignore_index=True)\n",
            "/usr/local/lib/python3.10/dist-packages/gseapy/enrichr.py:427: FutureWarning: The frame.append method is deprecated and will be removed from pandas in a future version. Use pandas.concat instead.\n",
            "  self.results = self.results.append(res, ignore_index=True)\n",
            "/usr/local/lib/python3.10/dist-packages/gseapy/enrichr.py:427: FutureWarning: The frame.append method is deprecated and will be removed from pandas in a future version. Use pandas.concat instead.\n",
            "  self.results = self.results.append(res, ignore_index=True)\n",
            "/usr/local/lib/python3.10/dist-packages/gseapy/enrichr.py:427: FutureWarning: The frame.append method is deprecated and will be removed from pandas in a future version. Use pandas.concat instead.\n",
            "  self.results = self.results.append(res, ignore_index=True)\n",
            "/usr/local/lib/python3.10/dist-packages/gseapy/enrichr.py:427: FutureWarning: The frame.append method is deprecated and will be removed from pandas in a future version. Use pandas.concat instead.\n",
            "  self.results = self.results.append(res, ignore_index=True)\n",
            "/usr/local/lib/python3.10/dist-packages/gseapy/enrichr.py:427: FutureWarning: The frame.append method is deprecated and will be removed from pandas in a future version. Use pandas.concat instead.\n",
            "  self.results = self.results.append(res, ignore_index=True)\n"
          ]
        }
      ]
    }
  ]
}