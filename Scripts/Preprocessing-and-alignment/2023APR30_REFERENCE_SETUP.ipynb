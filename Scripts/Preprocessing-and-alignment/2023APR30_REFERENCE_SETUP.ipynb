{
  "nbformat": 4,
  "nbformat_minor": 0,
  "metadata": {
    "colab": {
      "provenance": [],
      "toc_visible": true
    },
    "kernelspec": {
      "name": "python3",
      "display_name": "Python 3"
    },
    "language_info": {
      "name": "python"
    }
  },
  "cells": [
    {
      "cell_type": "code",
      "source": [
        "# Install access to Ensembl biomart\n",
        "!pip install pybiomart"
      ],
      "metadata": {
        "colab": {
          "base_uri": "https://localhost:8080/"
        },
        "id": "NWrcQpVCxQaM",
        "outputId": "e42f88c4-2dd3-440d-a14a-aa622f83b926"
      },
      "execution_count": 2,
      "outputs": [
        {
          "output_type": "stream",
          "name": "stdout",
          "text": [
            "Collecting pybiomart\n",
            "  Downloading pybiomart-0.2.0-py3-none-any.whl (10 kB)\n",
            "Requirement already satisfied: future in /usr/local/lib/python3.10/dist-packages (from pybiomart) (0.18.3)\n",
            "Requirement already satisfied: pandas in /usr/local/lib/python3.10/dist-packages (from pybiomart) (1.5.3)\n",
            "Requirement already satisfied: requests in /usr/local/lib/python3.10/dist-packages (from pybiomart) (2.27.1)\n",
            "Collecting requests-cache (from pybiomart)\n",
            "  Downloading requests_cache-1.1.0-py3-none-any.whl (60 kB)\n",
            "\u001b[?25l     \u001b[90m━━━━━━━━━━━━━━━━━━━━━━━━━━━━━━━━━━━━━━━━\u001b[0m \u001b[32m0.0/60.1 kB\u001b[0m \u001b[31m?\u001b[0m eta \u001b[36m-:--:--\u001b[0m\r\u001b[2K     \u001b[90m━━━━━━━━━━━━━━━━━━━━━━━━━━━━━━━━━━━━━━━━\u001b[0m \u001b[32m60.1/60.1 kB\u001b[0m \u001b[31m4.4 MB/s\u001b[0m eta \u001b[36m0:00:00\u001b[0m\n",
            "\u001b[?25hRequirement already satisfied: python-dateutil>=2.8.1 in /usr/local/lib/python3.10/dist-packages (from pandas->pybiomart) (2.8.2)\n",
            "Requirement already satisfied: pytz>=2020.1 in /usr/local/lib/python3.10/dist-packages (from pandas->pybiomart) (2022.7.1)\n",
            "Requirement already satisfied: numpy>=1.21.0 in /usr/local/lib/python3.10/dist-packages (from pandas->pybiomart) (1.22.4)\n",
            "Requirement already satisfied: urllib3<1.27,>=1.21.1 in /usr/local/lib/python3.10/dist-packages (from requests->pybiomart) (1.26.16)\n",
            "Requirement already satisfied: certifi>=2017.4.17 in /usr/local/lib/python3.10/dist-packages (from requests->pybiomart) (2023.5.7)\n",
            "Requirement already satisfied: charset-normalizer~=2.0.0 in /usr/local/lib/python3.10/dist-packages (from requests->pybiomart) (2.0.12)\n",
            "Requirement already satisfied: idna<4,>=2.5 in /usr/local/lib/python3.10/dist-packages (from requests->pybiomart) (3.4)\n",
            "Requirement already satisfied: attrs>=21.2 in /usr/local/lib/python3.10/dist-packages (from requests-cache->pybiomart) (23.1.0)\n",
            "Collecting cattrs>=22.2 (from requests-cache->pybiomart)\n",
            "  Downloading cattrs-23.1.2-py3-none-any.whl (50 kB)\n",
            "\u001b[2K     \u001b[90m━━━━━━━━━━━━━━━━━━━━━━━━━━━━━━━━━━━━━━━━\u001b[0m \u001b[32m50.8/50.8 kB\u001b[0m \u001b[31m6.2 MB/s\u001b[0m eta \u001b[36m0:00:00\u001b[0m\n",
            "\u001b[?25hRequirement already satisfied: platformdirs>=2.5 in /usr/local/lib/python3.10/dist-packages (from requests-cache->pybiomart) (3.7.0)\n",
            "Collecting url-normalize>=1.4 (from requests-cache->pybiomart)\n",
            "  Downloading url_normalize-1.4.3-py2.py3-none-any.whl (6.8 kB)\n",
            "Requirement already satisfied: exceptiongroup in /usr/local/lib/python3.10/dist-packages (from cattrs>=22.2->requests-cache->pybiomart) (1.1.1)\n",
            "Requirement already satisfied: typing_extensions>=4.1.0 in /usr/local/lib/python3.10/dist-packages (from cattrs>=22.2->requests-cache->pybiomart) (4.6.3)\n",
            "Requirement already satisfied: six>=1.5 in /usr/local/lib/python3.10/dist-packages (from python-dateutil>=2.8.1->pandas->pybiomart) (1.16.0)\n",
            "Installing collected packages: url-normalize, cattrs, requests-cache, pybiomart\n",
            "Successfully installed cattrs-23.1.2 pybiomart-0.2.0 requests-cache-1.1.0 url-normalize-1.4.3\n"
          ]
        }
      ]
    },
    {
      "cell_type": "markdown",
      "source": [
        "# IMPORT STATEMENTS"
      ],
      "metadata": {
        "id": "UjOc1hqMVZWO"
      }
    },
    {
      "cell_type": "code",
      "execution_count": 3,
      "metadata": {
        "id": "VOJZF0-jVO7L"
      },
      "outputs": [],
      "source": [
        "import pandas as pd\n",
        "import pybiomart as mart"
      ]
    },
    {
      "cell_type": "markdown",
      "source": [
        "# DATA PREPARATION\n",
        "Attachment of gene annotations to count data and formatting in preparation for DESeq2.\n"
      ],
      "metadata": {
        "id": "MGopSqmQKduz"
      }
    },
    {
      "cell_type": "markdown",
      "source": [
        "## HUMAN GENE ANNOTATION\n",
        "Retrieve from Ensembl and remove duplicated IDs to create gene information table to merge with counts table"
      ],
      "metadata": {
        "id": "YyjHMnUrVhOk"
      }
    },
    {
      "cell_type": "code",
      "source": [
        "# RETRIEVE INFO FROM ENSEMBL AND REMOVE UNWANTED GENE TYPES\n",
        "dataset = mart.Dataset(name='hsapiens_gene_ensembl',\n",
        "                  host='http://dec2021.archive.ensembl.org') # ARCHIVAL ENSEMBL TO MATCH ALIGNMENT\n",
        "# dataset.list_attributes()\n",
        "filtered = dataset.query(attributes=[\"ensembl_gene_id\",\"hgnc_symbol\",\n",
        "                                     \"gene_biotype\",\"chromosome_name\",\n",
        "                                     \"description\"],\n",
        "                         filters={\"biotype\":[\"protein_coding\",\"lincRNA\"]})\n",
        "#filtered.head()\n",
        "\n",
        "# REMOVE DUPLICATED GENE IDS\n",
        "print(\"Number of genes in human dataset before duplicate removal: \" +\n",
        "      str(filtered.shape[0]))\n",
        "print(\"Duplicated gene IDs to be removed except for the first instance:\")\n",
        "display(filtered[filtered[\"Gene stable ID\"].duplicated()])\n",
        "filtered.drop_duplicates(subset = \"Gene stable ID\",\n",
        "                         inplace = True) # DROP DUPLICATES IN PLACE\n",
        "print(\"Number of genes in human dataset after duplicate removal: \" +\n",
        "      str(filtered.shape[0]))"
      ],
      "metadata": {
        "id": "_iFM-SK7d--V"
      },
      "execution_count": null,
      "outputs": []
    },
    {
      "cell_type": "markdown",
      "source": [
        "## PLASMODIUM GENE ANNOTATION\n",
        "Retrieve Plasmodium gene information and remove duplicated IDs. Merge information from alignments with gene symbols from PlasmoDB"
      ],
      "metadata": {
        "id": "hqG0817q77U9"
      }
    },
    {
      "cell_type": "code",
      "source": [
        "# READ IN PF GENE ANNOTATIONS USED IN ALIGNMENT\n",
        "pf_genes = pd.read_csv(\"/content/drive/MyDrive/2023/Pf_ASM276v2_Genes.txt\",\n",
        "                       header = 0,\n",
        "                       sep = \"\\t\")\n",
        "print(\"Number of annotated genes: \" + str(pf_genes.shape[0]))\n",
        "\n",
        "# READ IN PF GENE SYMBOLS FROM PLASMODB\n",
        "pf_symbols = pd.read_csv(\"/content/drive/MyDrive/2023/PfGeneNames_plasmodb.csv\",\n",
        "                         header = 0)\n",
        "print(\"Number of genes with symbols: \" + str(pf_symbols.shape[0]))\n",
        "#print(pf_genes.columns)\n",
        "#print(pf_symbols.columns)"
      ],
      "metadata": {
        "colab": {
          "base_uri": "https://localhost:8080/"
        },
        "id": "MihQLQbV7f-v",
        "outputId": "f315c25e-dcf9-40d2-d7a1-ce50ab4c0142"
      },
      "execution_count": null,
      "outputs": [
        {
          "output_type": "stream",
          "name": "stdout",
          "text": [
            "Number of genes with info: 5377\n",
            "Number of genes with symbols: 5342\n",
            "Index(['Gene stable ID', 'Gene description', 'Chromosome/scaffold name',\n",
            "       'Gene start (bp)', 'Gene end (bp)', 'Strand', 'Gene name', 'Gene type',\n",
            "       'UniProtKB-Gene Ontology Annotation ID', 'UniProtKB/Swiss-Prot ID'],\n",
            "      dtype='object')\n",
            "Index(['Gene ID', 'source_id', 'Input ID', 'Gene Name or Symbol'], dtype='object')\n"
          ]
        }
      ]
    },
    {
      "cell_type": "markdown",
      "source": [
        "### REMOVE DUPLICATED GENE IDS"
      ],
      "metadata": {
        "id": "c3A9KjI4OAvu"
      }
    },
    {
      "cell_type": "code",
      "source": [
        "# REMOVE DUPLICATED GENE IDS FROM ANNOTATIONS USED IN ALIGNMENT\n",
        "print(\"Number of genes in pf dataset 1 before duplicate removal: \" +\n",
        "      str(pf_genes.shape[0]))\n",
        "print(\"Duplicated gene IDs to be removed except for the first instance:\")\n",
        "display(pf_genes[pf_genes[\"Gene stable ID\"].duplicated()])\n",
        "pf_genes.drop_duplicates(subset = \"Gene stable ID\",\n",
        "                         inplace = True) # DROP DUPLICATES IN PLACE\n",
        "print(\"Number of genes in pf dataset 1 after duplicate removal: \" +\n",
        "      str(pf_genes.shape))\n",
        "\n",
        "# REMOVE DUPLICATED GENE IDS FROM PLASMODB GENE SYMBOLS\n",
        "print(\"Number of genes in pf dataset 2 before duplicate removal: \" +\n",
        "      str(pf_symbols.shape[0]))\n",
        "print(\"Duplicated gene IDs to be removed except for the first instance:\")\n",
        "display(pf_symbols[pf_symbols[\"Gene ID\"].duplicated()])\n",
        "pf_symbols.drop_duplicates(subset = \"Gene ID\",\n",
        "                         inplace = True) # DROP DUPLICATES IN PLACE\n",
        "print(\"Number of genes in pf dataset 2 after duplicate removal: \" +\n",
        "      str(pf_symbols.shape))"
      ],
      "metadata": {
        "colab": {
          "base_uri": "https://localhost:8080/",
          "height": 478
        },
        "id": "5c0LlcC4_fg1",
        "outputId": "fc983517-896b-4aaa-e548-8e61f80c5db4"
      },
      "execution_count": null,
      "outputs": [
        {
          "output_type": "stream",
          "name": "stdout",
          "text": [
            "Number of genes in pf dataset 2 before duplicate removal: 5342\n",
            "Duplicated gene IDs to be removed except for the first instance:\n"
          ]
        },
        {
          "output_type": "display_data",
          "data": {
            "text/plain": [
              "            Gene ID        source_id                          Input ID  \\\n",
              "45    PF3D7_0105400  PF3D7_0105400.2  PF3D7_0105400.2, PF3D7_0105400.1   \n",
              "75    PF3D7_0108400  PF3D7_0108400.2  PF3D7_0108400.1, PF3D7_0108400.2   \n",
              "159   PF3D7_0202600  PF3D7_0202600.2  PF3D7_0202600.2, PF3D7_0202600.1   \n",
              "190   PF3D7_0205700  PF3D7_0205700.2  PF3D7_0205700.2, PF3D7_0205700.1   \n",
              "201   PF3D7_0206900  PF3D7_0206900.2  PF3D7_0206900.1, PF3D7_0206900.2   \n",
              "...             ...              ...                               ...   \n",
              "4764  PF3D7_1419800  PF3D7_1419800.2  PF3D7_1419800.1, PF3D7_1419800.2   \n",
              "4828  PF3D7_1427400  PF3D7_1427400.2  PF3D7_1427400.2, PF3D7_1427400.1   \n",
              "4843  PF3D7_1428800  PF3D7_1428800.2  PF3D7_1428800.2, PF3D7_1428800.1   \n",
              "4913  PF3D7_1435700  PF3D7_1435700.2  PF3D7_1435700.2, PF3D7_1435700.1   \n",
              "5163  PF3D7_1460900  PF3D7_1460900.2  PF3D7_1460900.2, PF3D7_1460900.1   \n",
              "\n",
              "     Gene Name or Symbol  \n",
              "45                   NaN  \n",
              "75                   NaN  \n",
              "159                  NaN  \n",
              "190                  NaN  \n",
              "201                 MSP5  \n",
              "...                  ...  \n",
              "4764                  GR  \n",
              "4828                 NaN  \n",
              "4843                 NaN  \n",
              "4913                 NaN  \n",
              "5163              ARPS10  \n",
              "\n",
              "[71 rows x 4 columns]"
            ],
            "text/html": [
              "\n",
              "  <div id=\"df-140a54d1-861f-4dc0-b97d-a8468ef80ca4\">\n",
              "    <div class=\"colab-df-container\">\n",
              "      <div>\n",
              "<style scoped>\n",
              "    .dataframe tbody tr th:only-of-type {\n",
              "        vertical-align: middle;\n",
              "    }\n",
              "\n",
              "    .dataframe tbody tr th {\n",
              "        vertical-align: top;\n",
              "    }\n",
              "\n",
              "    .dataframe thead th {\n",
              "        text-align: right;\n",
              "    }\n",
              "</style>\n",
              "<table border=\"1\" class=\"dataframe\">\n",
              "  <thead>\n",
              "    <tr style=\"text-align: right;\">\n",
              "      <th></th>\n",
              "      <th>Gene ID</th>\n",
              "      <th>source_id</th>\n",
              "      <th>Input ID</th>\n",
              "      <th>Gene Name or Symbol</th>\n",
              "    </tr>\n",
              "  </thead>\n",
              "  <tbody>\n",
              "    <tr>\n",
              "      <th>45</th>\n",
              "      <td>PF3D7_0105400</td>\n",
              "      <td>PF3D7_0105400.2</td>\n",
              "      <td>PF3D7_0105400.2, PF3D7_0105400.1</td>\n",
              "      <td>NaN</td>\n",
              "    </tr>\n",
              "    <tr>\n",
              "      <th>75</th>\n",
              "      <td>PF3D7_0108400</td>\n",
              "      <td>PF3D7_0108400.2</td>\n",
              "      <td>PF3D7_0108400.1, PF3D7_0108400.2</td>\n",
              "      <td>NaN</td>\n",
              "    </tr>\n",
              "    <tr>\n",
              "      <th>159</th>\n",
              "      <td>PF3D7_0202600</td>\n",
              "      <td>PF3D7_0202600.2</td>\n",
              "      <td>PF3D7_0202600.2, PF3D7_0202600.1</td>\n",
              "      <td>NaN</td>\n",
              "    </tr>\n",
              "    <tr>\n",
              "      <th>190</th>\n",
              "      <td>PF3D7_0205700</td>\n",
              "      <td>PF3D7_0205700.2</td>\n",
              "      <td>PF3D7_0205700.2, PF3D7_0205700.1</td>\n",
              "      <td>NaN</td>\n",
              "    </tr>\n",
              "    <tr>\n",
              "      <th>201</th>\n",
              "      <td>PF3D7_0206900</td>\n",
              "      <td>PF3D7_0206900.2</td>\n",
              "      <td>PF3D7_0206900.1, PF3D7_0206900.2</td>\n",
              "      <td>MSP5</td>\n",
              "    </tr>\n",
              "    <tr>\n",
              "      <th>...</th>\n",
              "      <td>...</td>\n",
              "      <td>...</td>\n",
              "      <td>...</td>\n",
              "      <td>...</td>\n",
              "    </tr>\n",
              "    <tr>\n",
              "      <th>4764</th>\n",
              "      <td>PF3D7_1419800</td>\n",
              "      <td>PF3D7_1419800.2</td>\n",
              "      <td>PF3D7_1419800.1, PF3D7_1419800.2</td>\n",
              "      <td>GR</td>\n",
              "    </tr>\n",
              "    <tr>\n",
              "      <th>4828</th>\n",
              "      <td>PF3D7_1427400</td>\n",
              "      <td>PF3D7_1427400.2</td>\n",
              "      <td>PF3D7_1427400.2, PF3D7_1427400.1</td>\n",
              "      <td>NaN</td>\n",
              "    </tr>\n",
              "    <tr>\n",
              "      <th>4843</th>\n",
              "      <td>PF3D7_1428800</td>\n",
              "      <td>PF3D7_1428800.2</td>\n",
              "      <td>PF3D7_1428800.2, PF3D7_1428800.1</td>\n",
              "      <td>NaN</td>\n",
              "    </tr>\n",
              "    <tr>\n",
              "      <th>4913</th>\n",
              "      <td>PF3D7_1435700</td>\n",
              "      <td>PF3D7_1435700.2</td>\n",
              "      <td>PF3D7_1435700.2, PF3D7_1435700.1</td>\n",
              "      <td>NaN</td>\n",
              "    </tr>\n",
              "    <tr>\n",
              "      <th>5163</th>\n",
              "      <td>PF3D7_1460900</td>\n",
              "      <td>PF3D7_1460900.2</td>\n",
              "      <td>PF3D7_1460900.2, PF3D7_1460900.1</td>\n",
              "      <td>ARPS10</td>\n",
              "    </tr>\n",
              "  </tbody>\n",
              "</table>\n",
              "<p>71 rows × 4 columns</p>\n",
              "</div>\n",
              "      <button class=\"colab-df-convert\" onclick=\"convertToInteractive('df-140a54d1-861f-4dc0-b97d-a8468ef80ca4')\"\n",
              "              title=\"Convert this dataframe to an interactive table.\"\n",
              "              style=\"display:none;\">\n",
              "        \n",
              "  <svg xmlns=\"http://www.w3.org/2000/svg\" height=\"24px\"viewBox=\"0 0 24 24\"\n",
              "       width=\"24px\">\n",
              "    <path d=\"M0 0h24v24H0V0z\" fill=\"none\"/>\n",
              "    <path d=\"M18.56 5.44l.94 2.06.94-2.06 2.06-.94-2.06-.94-.94-2.06-.94 2.06-2.06.94zm-11 1L8.5 8.5l.94-2.06 2.06-.94-2.06-.94L8.5 2.5l-.94 2.06-2.06.94zm10 10l.94 2.06.94-2.06 2.06-.94-2.06-.94-.94-2.06-.94 2.06-2.06.94z\"/><path d=\"M17.41 7.96l-1.37-1.37c-.4-.4-.92-.59-1.43-.59-.52 0-1.04.2-1.43.59L10.3 9.45l-7.72 7.72c-.78.78-.78 2.05 0 2.83L4 21.41c.39.39.9.59 1.41.59.51 0 1.02-.2 1.41-.59l7.78-7.78 2.81-2.81c.8-.78.8-2.07 0-2.86zM5.41 20L4 18.59l7.72-7.72 1.47 1.35L5.41 20z\"/>\n",
              "  </svg>\n",
              "      </button>\n",
              "      \n",
              "  <style>\n",
              "    .colab-df-container {\n",
              "      display:flex;\n",
              "      flex-wrap:wrap;\n",
              "      gap: 12px;\n",
              "    }\n",
              "\n",
              "    .colab-df-convert {\n",
              "      background-color: #E8F0FE;\n",
              "      border: none;\n",
              "      border-radius: 50%;\n",
              "      cursor: pointer;\n",
              "      display: none;\n",
              "      fill: #1967D2;\n",
              "      height: 32px;\n",
              "      padding: 0 0 0 0;\n",
              "      width: 32px;\n",
              "    }\n",
              "\n",
              "    .colab-df-convert:hover {\n",
              "      background-color: #E2EBFA;\n",
              "      box-shadow: 0px 1px 2px rgba(60, 64, 67, 0.3), 0px 1px 3px 1px rgba(60, 64, 67, 0.15);\n",
              "      fill: #174EA6;\n",
              "    }\n",
              "\n",
              "    [theme=dark] .colab-df-convert {\n",
              "      background-color: #3B4455;\n",
              "      fill: #D2E3FC;\n",
              "    }\n",
              "\n",
              "    [theme=dark] .colab-df-convert:hover {\n",
              "      background-color: #434B5C;\n",
              "      box-shadow: 0px 1px 3px 1px rgba(0, 0, 0, 0.15);\n",
              "      filter: drop-shadow(0px 1px 2px rgba(0, 0, 0, 0.3));\n",
              "      fill: #FFFFFF;\n",
              "    }\n",
              "  </style>\n",
              "\n",
              "      <script>\n",
              "        const buttonEl =\n",
              "          document.querySelector('#df-140a54d1-861f-4dc0-b97d-a8468ef80ca4 button.colab-df-convert');\n",
              "        buttonEl.style.display =\n",
              "          google.colab.kernel.accessAllowed ? 'block' : 'none';\n",
              "\n",
              "        async function convertToInteractive(key) {\n",
              "          const element = document.querySelector('#df-140a54d1-861f-4dc0-b97d-a8468ef80ca4');\n",
              "          const dataTable =\n",
              "            await google.colab.kernel.invokeFunction('convertToInteractive',\n",
              "                                                     [key], {});\n",
              "          if (!dataTable) return;\n",
              "\n",
              "          const docLinkHtml = 'Like what you see? Visit the ' +\n",
              "            '<a target=\"_blank\" href=https://colab.research.google.com/notebooks/data_table.ipynb>data table notebook</a>'\n",
              "            + ' to learn more about interactive tables.';\n",
              "          element.innerHTML = '';\n",
              "          dataTable['output_type'] = 'display_data';\n",
              "          await google.colab.output.renderOutput(dataTable, element);\n",
              "          const docLink = document.createElement('div');\n",
              "          docLink.innerHTML = docLinkHtml;\n",
              "          element.appendChild(docLink);\n",
              "        }\n",
              "      </script>\n",
              "    </div>\n",
              "  </div>\n",
              "  "
            ]
          },
          "metadata": {}
        },
        {
          "output_type": "stream",
          "name": "stdout",
          "text": [
            "Number of genes in pf dataset 2 after duplicate removal: (5271, 4)\n"
          ]
        }
      ]
    },
    {
      "cell_type": "markdown",
      "source": [
        "### MERGE PLASMODIUM ANNOTATIONS AND GENE SYMBOLS\n",
        "Create final gene information table to be merged with counts table"
      ],
      "metadata": {
        "id": "6hP_s6InOIYc"
      }
    },
    {
      "cell_type": "code",
      "source": [
        "# MERGE ANNOTATIONS AND GENE SYMBOLS\n",
        "pf_merge = pf_genes.merge(right = pf_symbols,\n",
        "                          left_on = \"Gene stable ID\",\n",
        "                          right_on = \"Gene ID\",\n",
        "                          how = \"left\")\n",
        "print(pf_merge.shape[0])\n",
        "\n",
        "# DROP EXTRA COLUMNS\n",
        "pf_merge = pf_merge[[\"Gene stable ID\",\"Gene description\",\n",
        "                     \"Gene Name or Symbol\",\"Chromosome/scaffold name\",\n",
        "                     \"Gene type\"]]"
      ],
      "metadata": {
        "colab": {
          "base_uri": "https://localhost:8080/"
        },
        "id": "Ob8jvh8Q9yxE",
        "outputId": "1abfa641-da37-4e52-9664-d01fcc01d02c"
      },
      "execution_count": null,
      "outputs": [
        {
          "output_type": "stream",
          "name": "stdout",
          "text": [
            "5358\n"
          ]
        }
      ]
    },
    {
      "cell_type": "markdown",
      "source": [
        "# PREPARE FINAL TABLES TO USE WITH DESEQ2\n",
        "Filter the counts table to include only protein-coding, lncRNA and filter the gene info tables to include only genes in the final counts table."
      ],
      "metadata": {
        "id": "2sHMOP7UBAFk"
      }
    },
    {
      "cell_type": "code",
      "source": [
        "# READ COUNTS TABLE\n",
        "my_counts = pd.read_csv(\"/content/drive/MyDrive/2023/220103_HsPf_2020.txt\",\n",
        "                        header = 0,\n",
        "                        sep = \"\\t\")\n",
        "my_genes = my_counts[\"Gene.ID\"]\n",
        "\n",
        "# SEPARATE HUMAN AND PF GENE COUNT TABLES\n",
        "human = my_genes[my_genes.str.startswith(\"ENSG\")] # ALL HUMAN\n",
        "pf = my_genes[my_genes.str.startswith(\"PF3D7_\")] #ALL PF\n",
        "my_human = my_counts[my_counts[\"Gene.ID\"].isin(human)] # FILTER BY HUMAN\n",
        "my_pf = my_counts[my_counts[\"Gene.ID\"].isin(pf)] # FILTER BY PF\n",
        "print(my_human.shape[0])\n",
        "print(my_pf.shape[0])\n",
        "\n",
        "# FILTER COUNT TABLES BY GENES LISTED IN THE INFO TABLES\n",
        "# TO REMOVE GENES THAT ARE NOT PROTEIN-CODING OR LNCRNA\n",
        "final_human = my_human[\n",
        "    my_human[\"Gene.ID\"].isin(filtered[\"Gene stable ID\"])\n",
        "    ]\n",
        "final_pf = my_pf[\n",
        "    my_pf[\"Gene.ID\"].isin(pf_merge[\"Gene stable ID\"])\n",
        "    ]\n",
        "print(final_human.shape[0])\n",
        "print(final_pf.shape[0])\n",
        "\n",
        "# WRITE INTERMEDIATE GENE COUNT TABLES TO FILE\n",
        "#final_human.to_csv(\"/content/drive/MyDrive/2023/HumanGeneCountTable_v1.csv\",\n",
        "#                   index = False,\n",
        "#                   header = True)\n",
        "#final_pf.to_csv(\"/content/drive/MyDrive/2023/PfGeneCountTable_v1.csv\",\n",
        "#                index = False,\n",
        "#                header = True)"
      ],
      "metadata": {
        "id": "pvC61L3yAyA4"
      },
      "execution_count": null,
      "outputs": []
    },
    {
      "cell_type": "markdown",
      "source": [
        "### CREATE FINAL GENE INFO TABLES\n",
        "These tables only contain genes that are included in the final counts tables (ie protein-coding, lncRNA)"
      ],
      "metadata": {
        "id": "V485rmFYMWNa"
      }
    },
    {
      "cell_type": "code",
      "source": [
        "# FILTER GENE INFO TO MATCH GENE COUNT TABLES\n",
        "pf_edit = pf_merge[pf_merge[\"Gene stable ID\"].isin(final_pf[\"Gene.ID\"])]\n",
        "human_edit = filtered[filtered[\"Gene stable ID\"].isin(final_human[\"Gene.ID\"])]\n",
        "\n",
        "# WRITE EDITED GENE INFO TO FILE\n",
        "human_edit.to_csv(\"/content/drive/MyDrive/2023/HumanGeneInfoTable_v1.csv\",\n",
        "                  index = False,\n",
        "                  header = True)\n",
        "pf_edit.to_csv(\"/content/drive/MyDrive/2023/PfGeneInfoTable_v1.csv\",\n",
        "               index = False,\n",
        "               header = True)"
      ],
      "metadata": {
        "id": "OJa0KrgAMw-F"
      },
      "execution_count": null,
      "outputs": []
    },
    {
      "cell_type": "markdown",
      "source": [
        "## CREATE FINAL COUNTS TABLES"
      ],
      "metadata": {
        "id": "zMRN7S06NwAa"
      }
    },
    {
      "cell_type": "code",
      "source": [
        "# REMOVE REPLICATES THAT FAILED QC\n",
        "bad_reps = [\"ProE_Infected_12\",\n",
        "            \"BasE_Uninfected_12\",\n",
        "            \"BasE_Infected_21\",\n",
        "            \"PolyE_Infected_32\",\n",
        "            \"OrthoE_Media_31\",\n",
        "            \"OrthoE_Infected_31\",\n",
        "            \"OrthoE_Infected_32\",\n",
        "            \"PolyE_Media_32\",\n",
        "            \"RSC\",\n",
        "            \"LTC\"]\n",
        "final_human.drop(bad_reps,axis=1,inplace = True) # REMOVING IN PLACE\n",
        "final_pf.drop(bad_reps,axis = 1, inplace = True) # REMOVING IN PLACE\n",
        "\n",
        "# REORDER COLUMNS BY CELL TYPE AND CONDITION\n",
        "my_cols = final_human.columns.tolist()\n",
        "new_order = [\"Gene.ID\"]\n",
        "for cell in [\"ProE\",\"BasE\",\"PolyE\",\"OrthoE\"]:\n",
        "  for con in [\"Media\",\"Mock\",\"Uninfected\",\"Infected\"]:\n",
        "    for rep in [\"11\",\"12\",\"21\",\"22\",\"31\",\"32\"]:\n",
        "      my_name = cell + \"_\" + con + \"_\" + rep\n",
        "      if my_name in my_cols:\n",
        "        new_order.append(my_name)\n",
        "print(my_cols)\n",
        "print(new_order)\n",
        "print(len(my_cols))\n",
        "print(len(new_order))\n",
        "\n",
        "# REORDER COUNTS TABLES\n",
        "final_human_reo = final_human.loc[:,new_order]\n",
        "final_pf_reo = final_pf.loc[:,new_order]\n",
        "\n",
        "# RENAME COLUMNS TO FIX CONDITION NAMES AND CELL TYPE NAMES TO BE CONSISTENT\n",
        "new_names = {}\n",
        "for col in new_order:\n",
        "  col_new = col.replace(\"_\",\".\")\n",
        "  if \"BasE\" or \"Mock\" in col:\n",
        "    col_new = col_new.replace(\"BasE\",\"BasoE\")\n",
        "    col_new = col_new.replace(\"Mock\", \"SRS\")\n",
        "  new_names[col] = col_new\n",
        "print(new_names)\n",
        "renamed_human = final_human_reo.rename(new_names, axis=1)\n",
        "renamed_pf = final_pf_reo.rename(new_names, axis = 1)\n",
        "\n",
        "# WRITE TO FILE THE FINAL COUNTS TABLES FOR ANALYSIS\n",
        "renamed_human.to_csv(\"/content/drive/MyDrive/2023/HumanGeneCountsTable_v2.csv\",\n",
        "               index = False,\n",
        "               header = True)\n",
        "renamed_pf.to_csv(\"/content/drive/MyDrive/2023/PfGeneCountsTable_v2.csv\",\n",
        "               index = False,\n",
        "               header = True)"
      ],
      "metadata": {
        "colab": {
          "base_uri": "https://localhost:8080/"
        },
        "id": "OQUP1eoMNvXz",
        "outputId": "813bf66c-106a-44b4-8c9b-4d85ed892009"
      },
      "execution_count": null,
      "outputs": [
        {
          "output_type": "stream",
          "name": "stderr",
          "text": [
            "<ipython-input-17-34ba5ddf26cb>:11: SettingWithCopyWarning: \n",
            "A value is trying to be set on a copy of a slice from a DataFrame\n",
            "\n",
            "See the caveats in the documentation: https://pandas.pydata.org/pandas-docs/stable/user_guide/indexing.html#returning-a-view-versus-a-copy\n",
            "  final_human.drop(bad_reps,axis=1,inplace = True)\n",
            "<ipython-input-17-34ba5ddf26cb>:12: SettingWithCopyWarning: \n",
            "A value is trying to be set on a copy of a slice from a DataFrame\n",
            "\n",
            "See the caveats in the documentation: https://pandas.pydata.org/pandas-docs/stable/user_guide/indexing.html#returning-a-view-versus-a-copy\n",
            "  final_pf.drop(bad_reps,axis = 1, inplace = True)\n"
          ]
        }
      ]
    },
    {
      "cell_type": "markdown",
      "source": [
        "## FIND THE ALIGNED READ TOTALS AND PERCENTAGES FOR HU AND PF\n",
        "This requires going back to the original counts table and applying the same removal of failed replicates and renaming as above so that the totals can be calculated from the unfiltered table."
      ],
      "metadata": {
        "id": "8CBImUSHNohh"
      }
    },
    {
      "cell_type": "markdown",
      "source": [
        "## UPDATE THE ORIGINAL COUNTS TABLE\n",
        "Remove failed replicates, reorder, and rename as above"
      ],
      "metadata": {
        "id": "DkINqFB7UrXW"
      }
    },
    {
      "cell_type": "code",
      "source": [
        "## REMOVE UNWANTED COLUMNS\n",
        "# Changes are made in place\n",
        "bad_reps = [\"ProE_Infected_12\",\n",
        "            \"BasE_Uninfected_12\",\n",
        "            \"BasE_Infected_21\",\n",
        "            \"PolyE_Infected_32\",\n",
        "            \"OrthoE_Media_31\",\n",
        "            \"OrthoE_Infected_31\",\n",
        "            \"OrthoE_Infected_32\",\n",
        "            \"PolyE_Media_32\",\n",
        "            \"RSC\",\n",
        "            \"LTC\"]\n",
        "my_counts.drop(bad_reps,axis=1,inplace = True)\n",
        "\n",
        "## REORDER COLUMNS BY CELL TYPE AND CONDITION\n",
        "my_cols = my_counts.columns.tolist()\n",
        "new_order = [\"Gene.ID\"]\n",
        "for cell in [\"ProE\",\"BasE\",\"PolyE\",\"OrthoE\"]:\n",
        "  for con in [\"Media\",\"Mock\",\"Uninfected\",\"Infected\"]:\n",
        "    for rep in [\"11\",\"12\",\"21\",\"22\",\"31\",\"32\"]:\n",
        "      my_name = cell + \"_\" + con + \"_\" + rep\n",
        "      if my_name in my_cols:\n",
        "        new_order.append(my_name)\n",
        "\n",
        "my_counts = my_counts.loc[:,new_order]\n",
        "\n",
        "## RENAME COLUMNS TO BE CONSISTENT WITH PAPER\n",
        "new_names = {}\n",
        "for col in new_order:\n",
        "  col_new = col.replace(\"_\",\".\")\n",
        "  if \"BasE\" or \"Mock\" in col:\n",
        "    col_new = col_new.replace(\"BasE\",\"BasoE\")\n",
        "    col_new = col_new.replace(\"Mock\", \"SRS\")\n",
        "  new_names[col] = col_new\n",
        "print(new_names)\n",
        "my_counts = my_counts.rename(new_names, axis=1)\n",
        "\n",
        "## SEPARATE INTO TABLES FOR HUMAN AND PF\n",
        "my_human = my_counts[my_counts[\"Gene.ID\"].isin(human)] # FILTER BY HUMAN\n",
        "my_pf = my_counts[my_counts[\"Gene.ID\"].isin(pf)] # FILTER BY PF"
      ],
      "metadata": {
        "id": "ojhXIcheN7eB"
      },
      "execution_count": null,
      "outputs": []
    },
    {
      "cell_type": "markdown",
      "source": [
        "## FIND ALIGNED READ TOTALS\n",
        "Sum the total aligned reads from human and Pf and find the percentage of total aligned reads for each species."
      ],
      "metadata": {
        "id": "-7RaMHr9O8_z"
      }
    },
    {
      "cell_type": "code",
      "source": [
        "my_total = my_counts.sum(numeric_only=True)\n",
        "my_human_total = my_human.sum(numeric_only=True)\n",
        "my_pf_total = my_pf.sum(numeric_only=True)\n",
        "#print(my_total.shape)\n",
        "#print(my_human_total.shape)\n",
        "#print(my_pf_total.shape)\n",
        "\n",
        "## MAKE FINAL TABLE WITH TOTALS AND PERCENTAGES\n",
        "my_totals = pd.concat([my_total,my_human_total,my_pf_total], axis = 1)\n",
        "my_totals.columns = [\"Total gene counts\",\"H. sapiens gene counts\", \"P. falciparum gene counts\"]\n",
        "my_totals[\"H. sapiens gene counts (% of total)\"] = my_totals[\"H. sapiens gene counts\"]/my_totals[\"Total gene counts\"] * 100\n",
        "my_totals[\"P. falciparum gene counts (% of total)\"] = my_totals[\"P. falciparum gene counts\"]/my_totals[\"Total gene counts\"] * 100\n",
        "\n",
        "## SAVE TO FILE\n",
        "my_totals.to_csv(\"/content/drive/MyDrive/2023/GeneCountsTotals.csv\",\n",
        "               index = True,\n",
        "               header = True)"
      ],
      "metadata": {
        "id": "F2uD8SNIOzyx"
      },
      "execution_count": null,
      "outputs": []
    }
  ]
}